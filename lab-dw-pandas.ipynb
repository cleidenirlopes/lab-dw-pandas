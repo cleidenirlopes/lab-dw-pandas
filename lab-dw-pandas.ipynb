{
 "cells": [
  {
   "cell_type": "markdown",
   "id": "25d7736c-ba17-4aff-b6bb-66eba20fbf4e",
   "metadata": {},
   "source": [
    "# Lab | Pandas"
   ]
  },
  {
   "cell_type": "markdown",
   "id": "d1973e9e-8be6-4039-b70e-d73ee0d94c99",
   "metadata": {},
   "source": [
    "In this lab, we will be working with the customer data from an insurance company, which can be found in the CSV file located at the following link: https://raw.githubusercontent.com/data-bootcamp-v4/data/main/file1.csv\n",
    "\n",
    "The data includes information such as customer ID, state, gender, education, income, and other variables that can be used to perform various analyses.\n",
    "\n",
    "Throughout the lab, we will be using the pandas library in Python to manipulate and analyze the data. Pandas is a powerful library that provides various data manipulation and analysis tools, including the ability to load and manipulate data from a variety of sources, including CSV files."
   ]
  },
  {
   "cell_type": "markdown",
   "id": "8045146f-f4f7-44d9-8cd9-130d6400c73a",
   "metadata": {},
   "source": [
    "### Data Description\n",
    "\n",
    "- Customer - Customer ID\n",
    "\n",
    "- ST - State where customers live\n",
    "\n",
    "- Gender - Gender of the customer\n",
    "\n",
    "- Education - Background education of customers \n",
    "\n",
    "- Customer Lifetime Value - Customer lifetime value(CLV) is the total revenue the client will derive from their entire relationship with a customer. In other words, is the predicted or calculated value of a customer over their entire duration as a policyholder with the insurance company. It is an estimation of the net profit that the insurance company expects to generate from a customer throughout their relationship with the company. Customer Lifetime Value takes into account factors such as the duration of the customer's policy, premium payments, claim history, renewal likelihood, and potential additional services or products the customer may purchase. It helps insurers assess the long-term profitability and value associated with retaining a particular customer.\n",
    "\n",
    "- Income - Customers income\n",
    "\n",
    "- Monthly Premium Auto - Amount of money the customer pays on a monthly basis as a premium for their auto insurance coverage. It represents the recurring cost that the insured person must pay to maintain their insurance policy and receive coverage for potential damages, accidents, or other covered events related to their vehicle.\n",
    "\n",
    "- Number of Open Complaints - Number of complaints the customer opened\n",
    "\n",
    "- Policy Type - There are three type of policies in car insurance (Corporate Auto, Personal Auto, and Special Auto)\n",
    "\n",
    "- Vehicle Class - Type of vehicle classes that customers have Two-Door Car, Four-Door Car SUV, Luxury SUV, Sports Car, and Luxury Car\n",
    "\n",
    "- Total Claim Amount - the sum of all claims made by the customer. It represents the total monetary value of all approved claims for incidents such as accidents, theft, vandalism, or other covered events.\n"
   ]
  },
  {
   "cell_type": "markdown",
   "id": "3a72419b-20fc-4905-817a-8c83abc59de6",
   "metadata": {},
   "source": [
    "External Resources: https://towardsdatascience.com/filtering-data-frames-in-pandas-b570b1f834b9"
   ]
  },
  {
   "cell_type": "markdown",
   "id": "8f8ece17-e919-4e23-96c0-c7c59778436a",
   "metadata": {},
   "source": [
    "## Challenge 1: Understanding the data\n",
    "\n",
    "In this challenge, you will use pandas to explore a given dataset. Your task is to gain a deep understanding of the data by analyzing its characteristics, dimensions, and statistical properties."
   ]
  },
  {
   "cell_type": "markdown",
   "id": "91437bd5-59a6-49c0-8150-ef0e6e6eb253",
   "metadata": {},
   "source": [
    "- Identify the dimensions of the dataset by determining the number of rows and columns it contains.\n",
    "- Determine the data types of each column and evaluate whether they are appropriate for the nature of the variable. You should also provide suggestions for fixing any incorrect data types.\n",
    "- Identify the number of unique values for each column and determine which columns appear to be categorical. You should also describe the unique values of each categorical column and the range of values for numerical columns, and give your insights.\n",
    "- Compute summary statistics such as mean, median, mode, standard deviation, and quartiles to understand the central tendency and distribution of the data for numerical columns. You should also provide your conclusions based on these summary statistics.\n",
    "- Compute summary statistics for categorical columns and providing your conclusions based on these statistics."
   ]
  },
  {
   "cell_type": "code",
   "execution_count": 1,
   "id": "dd4e8cd8-a6f6-486c-a5c4-1745b0c035f4",
   "metadata": {},
   "outputs": [],
   "source": [
    "import pandas as pd\n",
    "\n",
    "# Load the dataset\n",
    "url = \"https://raw.githubusercontent.com/data-bootcamp-v4/data/main/file1.csv\"\n",
    "Pandas_Int = pd.read_csv(url)"
   ]
  },
  {
   "cell_type": "code",
   "execution_count": 2,
   "id": "1f4e20f3",
   "metadata": {},
   "outputs": [
    {
     "name": "stdout",
     "output_type": "stream",
     "text": [
      "  Customer          ST GENDER             Education Customer Lifetime Value  \\\n",
      "0  RB50392  Washington    NaN                Master                     NaN   \n",
      "1  QZ44356     Arizona      F              Bachelor              697953.59%   \n",
      "2  AI49188      Nevada      F              Bachelor             1288743.17%   \n",
      "3  WW63253  California      M              Bachelor              764586.18%   \n",
      "4  GA49547  Washington      M  High School or Below              536307.65%   \n",
      "\n",
      "    Income  Monthly Premium Auto Number of Open Complaints     Policy Type  \\\n",
      "0      0.0                1000.0                    1/0/00   Personal Auto   \n",
      "1      0.0                  94.0                    1/0/00   Personal Auto   \n",
      "2  48767.0                 108.0                    1/0/00   Personal Auto   \n",
      "3      0.0                 106.0                    1/0/00  Corporate Auto   \n",
      "4  36357.0                  68.0                    1/0/00   Personal Auto   \n",
      "\n",
      "   Vehicle Class  Total Claim Amount  \n",
      "0  Four-Door Car            2.704934  \n",
      "1  Four-Door Car         1131.464935  \n",
      "2   Two-Door Car          566.472247  \n",
      "3            SUV          529.881344  \n",
      "4  Four-Door Car           17.269323  \n"
     ]
    }
   ],
   "source": [
    "print(Pandas_Int .head())"
   ]
  },
  {
   "cell_type": "code",
   "execution_count": 3,
   "id": "9e55aa66",
   "metadata": {},
   "outputs": [
    {
     "name": "stdout",
     "output_type": "stream",
     "text": [
      "Index(['Customer', 'ST', 'GENDER', 'Education', 'Customer Lifetime Value',\n",
      "       'Income', 'Monthly Premium Auto', 'Number of Open Complaints',\n",
      "       'Policy Type', 'Vehicle Class', 'Total Claim Amount'],\n",
      "      dtype='object')\n",
      "(4008, 11)\n"
     ]
    }
   ],
   "source": [
    "# Display the first 5 rows\n",
    "print(Pandas_Int.columns)\n",
    "print(Pandas_Int.shape)"
   ]
  },
  {
   "cell_type": "code",
   "execution_count": 4,
   "id": "5e75b46c",
   "metadata": {},
   "outputs": [
    {
     "name": "stdout",
     "output_type": "stream",
     "text": [
      " The Dataframe has 4008 rows and 11 columns.\n"
     ]
    }
   ],
   "source": [
    "rows,columns = Pandas_Int.shape\n",
    "print(f\" The Dataframe has {rows} rows and {columns} columns.\")"
   ]
  },
  {
   "cell_type": "code",
   "execution_count": 5,
   "id": "fa2b055d",
   "metadata": {},
   "outputs": [
    {
     "name": "stdout",
     "output_type": "stream",
     "text": [
      "Customer                      object\n",
      "ST                            object\n",
      "GENDER                        object\n",
      "Education                     object\n",
      "Customer Lifetime Value       object\n",
      "Income                       float64\n",
      "Monthly Premium Auto         float64\n",
      "Number of Open Complaints     object\n",
      "Policy Type                   object\n",
      "Vehicle Class                 object\n",
      "Total Claim Amount           float64\n",
      "dtype: object\n"
     ]
    }
   ],
   "source": [
    "print(Pandas_Int.dtypes)"
   ]
  },
  {
   "cell_type": "code",
   "execution_count": 6,
   "id": "cbd21f05",
   "metadata": {},
   "outputs": [
    {
     "name": "stdout",
     "output_type": "stream",
     "text": [
      "Unique Values per Columns:\n",
      " Customer                     1071\n",
      "ST                              8\n",
      "GENDER                          5\n",
      "Education                       6\n",
      "Customer Lifetime Value      1027\n",
      "Income                        774\n",
      "Monthly Premium Auto          132\n",
      "Number of Open Complaints       6\n",
      "Policy Type                     3\n",
      "Vehicle Class                   6\n",
      "Total Claim Amount            761\n",
      "dtype: int64\n"
     ]
    }
   ],
   "source": [
    "# Unique values in each column\n",
    "unique_counts = Pandas_Int.nunique()\n",
    "\n",
    "# Separate categorical and numerical columns\n",
    "categorical_columns = Pandas_Int.select_dtypes(include = [\"object\", \"category\"]).columns\n",
    "numerical_columns = Pandas_Int.select_dtypes(include = ['int64', 'float64']).columns\n",
    "print(\"Unique Values per Columns:\\n\", unique_counts)"
   ]
  },
  {
   "cell_type": "code",
   "execution_count": 7,
   "id": "0b59362f",
   "metadata": {},
   "outputs": [
    {
     "name": "stdout",
     "output_type": "stream",
     "text": [
      "Range of'Income' : 0.0 to 99960.0\n",
      "Range of'Monthly Premium Auto' : 61.0 to 35354.0\n",
      "Range of'Total Claim Amount' : 0.382107 to 2893.239678\n"
     ]
    }
   ],
   "source": [
    "# Describe unique values in categorical columns\n",
    "for col in numerical_columns:\n",
    "    print(f\"Range of'{col}' : {Pandas_Int[col].min()} to {Pandas_Int[col].max()}\")"
   ]
  },
  {
   "cell_type": "markdown",
   "id": "4a703890-63db-4944-b7ab-95a4f8185120",
   "metadata": {},
   "source": [
    "## Challenge 2: analyzing the data"
   ]
  },
  {
   "cell_type": "code",
   "execution_count": 14,
   "id": "01038752",
   "metadata": {},
   "outputs": [
    {
     "name": "stdout",
     "output_type": "stream",
     "text": [
      "Summary Statistics:\n",
      "              Income  Monthly Premium Auto  Total Claim Amount\n",
      "count    724.000000            724.000000          724.000000\n",
      "mean   52014.638122            226.349448          347.675170\n",
      "std    24381.361877           1910.086258          270.301754\n",
      "min    10269.000000             61.000000            0.382107\n",
      "25%    29462.000000             68.000000          141.891985\n",
      "50%    50540.500000             82.000000          321.600000\n",
      "75%    71199.000000            109.000000          480.256879\n",
      "max    99960.000000          35354.000000         2893.239678\n"
     ]
    }
   ],
   "source": [
    "#Calculate Summary Statistics\n",
    "summary_stats = Pandas_Int.describe()\n",
    "print(\"Summary Statistics:\\n\", summary_stats)\n"
   ]
  },
  {
   "cell_type": "code",
   "execution_count": 15,
   "id": "93702e9d",
   "metadata": {},
   "outputs": [
    {
     "name": "stdout",
     "output_type": "stream",
     "text": [
      "Mode of 'Income':\n",
      " [43860.]\n",
      "Mode of 'Monthly Premium Auto':\n",
      " [65.]\n",
      "Mode of 'Total Claim Amount':\n",
      " [321.6]\n"
     ]
    }
   ],
   "source": [
    "#Calculate Mode\n",
    "for col in Pandas_Int.select_dtypes(include=['int64', 'float64']).columns:\n",
    "    print(f\"Mode of '{col}':\\n\", Pandas_Int[col].mode().values)"
   ]
  },
  {
   "cell_type": "code",
   "execution_count": 16,
   "id": "eb182714",
   "metadata": {},
   "outputs": [
    {
     "name": "stdout",
     "output_type": "stream",
     "text": [
      "Median:\n",
      " Income                  50540.5\n",
      "Monthly Premium Auto       82.0\n",
      "Total Claim Amount        321.6\n",
      "dtype: float64\n"
     ]
    }
   ],
   "source": [
    "# Calculate the median for numerical columns only\n",
    "numerical_columns = Pandas_Int.select_dtypes(include=['int64', 'float64'])\n",
    "print(\"Median:\\n\", numerical_columns.median())"
   ]
  },
  {
   "cell_type": "code",
   "execution_count": 17,
   "id": "29323190",
   "metadata": {},
   "outputs": [
    {
     "name": "stdout",
     "output_type": "stream",
     "text": [
      "Standard Deviation:\n",
      " Income                  24381.361877\n",
      "Monthly Premium Auto     1910.086258\n",
      "Total Claim Amount        270.301754\n",
      "dtype: float64\n"
     ]
    }
   ],
   "source": [
    "# Filter numerical columns\n",
    "numerical_columns = Pandas_Int.select_dtypes(include=['int64', 'float64'])\n",
    "\n",
    "# Compute the standard deviation for numerical columns\n",
    "print(\"Standard Deviation:\\n\", numerical_columns.std())"
   ]
  },
  {
   "cell_type": "code",
   "execution_count": 18,
   "id": "c8b4d851",
   "metadata": {},
   "outputs": [
    {
     "name": "stdout",
     "output_type": "stream",
     "text": [
      "Interquartile Range (IQR):\n",
      " Income                  41737.000000\n",
      "Monthly Premium Auto       41.000000\n",
      "Total Claim Amount        338.364894\n",
      "dtype: float64\n"
     ]
    }
   ],
   "source": [
    "# Filter numerical columns\n",
    "numerical_columns = Pandas_Int.select_dtypes(include=['int64', 'float64'])\n",
    "\n",
    "# Calculate the first and third quartiles for numerical columns\n",
    "Q1 = numerical_columns.quantile(0.25)\n",
    "Q3 = numerical_columns.quantile(0.75)\n",
    "\n",
    "# Calculate the Interquartile Range (IQR)\n",
    "IQR = Q3 - Q1\n",
    "\n",
    "print(\"Interquartile Range (IQR):\\n\", IQR)"
   ]
  },
  {
   "cell_type": "markdown",
   "id": "0776a403-c56a-452f-ac33-5fd4fdb06fc7",
   "metadata": {},
   "source": [
    "### Exercise 1"
   ]
  },
  {
   "cell_type": "markdown",
   "id": "eedbc484-da4d-4f9c-9343-e1d44311a87e",
   "metadata": {},
   "source": [
    "The marketing team wants to know the top 5 less common customer locations. Create a pandas Series object that contains the customer locations and their frequencies, and then retrieve the top 5 less common locations in ascending order."
   ]
  },
  {
   "cell_type": "code",
   "execution_count": 19,
   "id": "2dca5073-4520-4f42-9390-4b92733284ed",
   "metadata": {},
   "outputs": [
    {
     "name": "stdout",
     "output_type": "stream",
     "text": [
      "+----+------------+------------+----------+----------------------+---------------------------+----------+------------------------+-----------------------------+----------------+-----------------+----------------------+---------------------+\n",
      "|    | Customer   | States     | GENDER   | Education            | Customer Lifetime Value   |   Income |   Monthly Premium Auto | Number of Open Complaints   | Policy Type    | Vehicle Class   |   Total Claim Amount | Customer_Location   |\n",
      "+====+============+============+==========+======================+===========================+==========+========================+=============================+================+=================+======================+=====================+\n",
      "|  2 | AI49188    | Nevada     | F        | Bachelor             | 1288743.17%               |    48767 |                    108 | 1/0/00                      | Personal Auto  | Two-Door Car    |             566.472  | Nevada              |\n",
      "+----+------------+------------+----------+----------------------+---------------------------+----------+------------------------+-----------------------------+----------------+-----------------+----------------------+---------------------+\n",
      "|  4 | GA49547    | Washington | M        | High School or Below | 536307.65%                |    36357 |                     68 | 1/0/00                      | Personal Auto  | Four-Door Car   |              17.2693 | Washington          |\n",
      "+----+------------+------------+----------+----------------------+---------------------------+----------+------------------------+-----------------------------+----------------+-----------------+----------------------+---------------------+\n",
      "|  5 | OC83172    | Oregon     | F        | Bachelor             | 825629.78%                |    62902 |                     69 | 1/0/00                      | Personal Auto  | Two-Door Car    |             159.383  | Oregon              |\n",
      "+----+------------+------------+----------+----------------------+---------------------------+----------+------------------------+-----------------------------+----------------+-----------------+----------------------+---------------------+\n",
      "|  6 | XZ87318    | Oregon     | F        | College              | 538089.86%                |    55350 |                     67 | 1/0/00                      | Corporate Auto | Four-Door Car   |             321.6    | Oregon              |\n",
      "+----+------------+------------+----------+----------------------+---------------------------+----------+------------------------+-----------------------------+----------------+-----------------+----------------------+---------------------+\n",
      "|  8 | DY87989    | Oregon     | M        | Bachelor             | 2412750.40%               |    14072 |                     71 | 1/0/00                      | Corporate Auto | Four-Door Car   |             511.2    | Oregon              |\n",
      "+----+------------+------------+----------+----------------------+---------------------------+----------+------------------------+-----------------------------+----------------+-----------------+----------------------+---------------------+\n",
      "|  9 | BQ94931    | Oregon     | F        | College              | 738817.81%                |    28812 |                     93 | 1/0/00                      | Special Auto   | Four-Door Car   |             425.528  | Oregon              |\n",
      "+----+------------+------------+----------+----------------------+---------------------------+----------+------------------------+-----------------------------+----------------+-----------------+----------------------+---------------------+\n",
      "| 21 | QK46697    | Washington | M        | Bachelors            | 617710.93%                |    61040 |                     79 | 1/1/00                      | Personal Auto  | Two-Door Car    |              20.3829 | Washington          |\n",
      "+----+------------+------------+----------+----------------------+---------------------------+----------+------------------------+-----------------------------+----------------+-----------------+----------------------+---------------------+\n",
      "| 27 | HS14476    | Washington | M        | College              | 916206.32%                |    29723 |                     80 | 1/0/00                      | Personal Auto  | Four-Door Car   |              20.9851 | Washington          |\n",
      "+----+------------+------------+----------+----------------------+---------------------------+----------+------------------------+-----------------------------+----------------+-----------------+----------------------+---------------------+\n",
      "| 44 | YD87931    | Washington | M        | Doctor               | 495165.61%                |    46896 |                  35354 | 1/1/00                      | Personal Auto  | Four-Door Car   |              31.7073 | Washington          |\n",
      "+----+------------+------------+----------+----------------------+---------------------------+----------+------------------------+-----------------------------+----------------+-----------------+----------------------+---------------------+\n",
      "| 53 | NW21079    | Washington | F        | Master               | 487938.48%                |    67163 |                     61 | 1/2/00                      | Personal Auto  | Two-Door Car    |              33.1928 | Washington          |\n",
      "+----+------------+------------+----------+----------------------+---------------------------+----------+------------------------+-----------------------------+----------------+-----------------+----------------------+---------------------+\n"
     ]
    }
   ],
   "source": [
    "#Tabulate library\n",
    "from tabulate import tabulate\n",
    "\n",
    "# Display the first 10 rows of the DataFrame with borders\n",
    "print(tabulate(Pandas_Int.head(10), headers='keys', tablefmt='grid'))"
   ]
  },
  {
   "cell_type": "code",
   "execution_count": 20,
   "id": "367b27da",
   "metadata": {},
   "outputs": [],
   "source": [
    "# Rename the 'ST' column to 'States'\n",
    "Pandas_Int.rename(columns={'ST': 'States'}, inplace=True)\n",
    "# Remove rows where any column has blank values or zeros\n",
    "Pandas_Int = Pandas_Int[(Pandas_Int != 0).all(axis=1)]  # Remove rows where any column is zero\n",
    "Pandas_Int = Pandas_Int[(Pandas_Int != '').all(axis=1)]  # Remove rows where any column is blank\n",
    "# Drop rows with NaN or NULL values\n",
    "Pandas_Int.dropna(inplace=True)\n",
    "# Create a Column Customer Location\n",
    "Pandas_Int['Customer_Location'] = Pandas_Int['States']"
   ]
  },
  {
   "cell_type": "code",
   "execution_count": 21,
   "id": "a6ec18be",
   "metadata": {},
   "outputs": [
    {
     "name": "stdout",
     "output_type": "stream",
     "text": [
      "Top 5 Least Common Customer Locations:\n",
      " Customer_Location\n",
      "AZ             8\n",
      "WA            20\n",
      "Nevada        62\n",
      "Washington    74\n",
      "Cali          95\n",
      "Name: count, dtype: int64\n"
     ]
    }
   ],
   "source": [
    "# Customer locations\n",
    "location_counts = Pandas_Int['Customer_Location'].value_counts()\n",
    "\n",
    "# Sort the location counts in ascending order and retrieve the top 5 least common locations\n",
    "top_5_least_common_locations = location_counts.sort_values(ascending=True).head(5)\n",
    "\n",
    "print(\"Top 5 Least Common Customer Locations:\\n\", top_5_least_common_locations)"
   ]
  },
  {
   "cell_type": "markdown",
   "id": "0ce80f43-4afa-43c7-a78a-c917444da4e0",
   "metadata": {},
   "source": [
    "### Exercise 2\n",
    "\n",
    "The sales team wants to know the total number of policies sold for each type of policy. Create a pandas Series object that contains the policy types and their total number of policies sold, and then retrieve the policy type with the highest number of policies sold."
   ]
  },
  {
   "cell_type": "markdown",
   "id": "a9f13997-1555-4f98-aca6-970fda1d2c3f",
   "metadata": {},
   "source": [
    "*Hint:*\n",
    "- *Using value_counts() method simplifies this analysis.*\n",
    "- *Futhermore, there is a method that returns the index of the maximum value in a column or row.*\n"
   ]
  },
  {
   "cell_type": "code",
   "execution_count": 22,
   "id": "bcfad6c1-9af2-4b0b-9aa9-0dc5c17473c0",
   "metadata": {},
   "outputs": [
    {
     "name": "stdout",
     "output_type": "stream",
     "text": [
      "Total policies sold for each type:\n",
      " Policy Type\n",
      "Personal Auto     519\n",
      "Corporate Auto    161\n",
      "Special Auto       44\n",
      "Name: count, dtype: int64\n",
      "\n",
      "The policy type with the highest number of policies sold is 'Personal Auto' with 519 policies sold.\n"
     ]
    }
   ],
   "source": [
    "# Count occurrences of each policy type\n",
    "policy_sales = Pandas_Int['Policy Type'].value_counts()\n",
    "\n",
    "# Display the total number of policies sold for each type\n",
    "print(\"Total policies sold for each type:\\n\", policy_sales)\n",
    "\n",
    "# Identify the policy type with the highest sales\n",
    "top_policy = policy_sales.idxmax()\n",
    "top_sales = policy_sales.max()\n",
    "\n",
    "# Print the results\n",
    "print(f\"\\nThe policy type with the highest number of policies sold is '{top_policy}' with {top_sales} policies sold.\")"
   ]
  },
  {
   "cell_type": "markdown",
   "id": "0b863fd3-bf91-4d5d-86eb-be29ed9f5b70",
   "metadata": {},
   "source": [
    "### Exercise 3\n",
    "\n",
    "The sales team wants to know if customers with Personal Auto have a lower income than those with Corporate Auto. How does the average income compare between the two policy types?"
   ]
  },
  {
   "cell_type": "markdown",
   "id": "b1386d75-2810-4aa1-93e0-9485aa12d552",
   "metadata": {},
   "source": [
    "- Use *loc* to create two dataframes: one containing only Personal Auto policies and one containing only Corporate Auto policies.\n",
    "- Calculate the average income for each policy.\n",
    "- Print the results."
   ]
  },
  {
   "cell_type": "code",
   "execution_count": 23,
   "id": "0c0563cf-6f8b-463d-a321-651a972f82e5",
   "metadata": {},
   "outputs": [
    {
     "name": "stdout",
     "output_type": "stream",
     "text": [
      "Average income of customers with Personal Auto policies: $51301.91\n",
      "Average income of customers with Corporate Auto policies: $53778.14\n"
     ]
    }
   ],
   "source": [
    "# Filter data for Personal Auto and Corporate Auto policies\n",
    "personal_auto = Pandas_Int.loc[Pandas_Int['Policy Type'] == 'Personal Auto']\n",
    "corporate_auto = Pandas_Int.loc[Pandas_Int['Policy Type'] == 'Corporate Auto']\n",
    "\n",
    "# Calculate average income for each policy type\n",
    "avg_income_personal = personal_auto['Income'].mean()\n",
    "avg_income_corporate = corporate_auto['Income'].mean()\n",
    "\n",
    "# Print the results\n",
    "print(f\"Average income of customers with Personal Auto policies: ${avg_income_personal:.2f}\")\n",
    "print(f\"Average income of customers with Corporate Auto policies: ${avg_income_corporate:.2f}\")"
   ]
  },
  {
   "cell_type": "markdown",
   "id": "80b16c27-f4a5-4727-a229-1f88671cf4e2",
   "metadata": {},
   "source": [
    "### Bonus: Exercise 4\n"
   ]
  },
  {
   "cell_type": "markdown",
   "id": "ac584986-299b-475f-ac2e-928c16c3f512",
   "metadata": {},
   "source": [
    "Your goal is to identify customers with a high policy claim amount.\n",
    "\n",
    "Instructions:\n",
    "\n",
    "- Review again the statistics for total claim amount to gain an understanding of the data.\n",
    "- To identify potential areas for improving customer retention and profitability, we want to focus on customers with a high policy claim amount. Consider customers with a high policy claim amount to be those in the top 25% of the total claim amount. Create a pandas DataFrame object that contains information about customers with a policy claim amount greater than the 75th percentile.\n",
    "- Use DataFrame methods to calculate summary statistics about the high policy claim amount data. "
   ]
  },
  {
   "cell_type": "markdown",
   "id": "4e3af5f1-6023-4b05-9c01-d05392daa650",
   "metadata": {},
   "source": [
    "*Note: When analyzing data, we often want to focus on certain groups of values to gain insights. Percentiles are a useful tool to help us define these groups. A percentile is a measure that tells us what percentage of values in a dataset are below a certain value. For example, the 75th percentile represents the value below which 75% of the data falls. Similarly, the 25th percentile represents the value below which 25% of the data falls. When we talk about the top 25%, we are referring to the values that fall above the 75th percentile, which represent the top quarter of the data. On the other hand, when we talk about the bottom 25%, we are referring to the values that fall below the 25th percentile, which represent the bottom quarter of the data. By focusing on these groups, we can identify patterns and trends that may be useful for making decisions and taking action.*\n",
    "\n",
    "*Hint: look for a method that gives you the percentile or quantile 0.75 and 0.25 for a Pandas Series.*"
   ]
  },
  {
   "cell_type": "markdown",
   "id": "2d234634-50bd-41e0-88f7-d5ba684455d1",
   "metadata": {},
   "source": [
    "*Hint 2: check `Boolean selection according to the values of a single column` in https://towardsdatascience.com/filtering-data-frames-in-pandas-b570b1f834b9*"
   ]
  },
  {
   "cell_type": "code",
   "execution_count": 24,
   "id": "b731bca6-a760-4860-a27b-a33efa712ce0",
   "metadata": {},
   "outputs": [
    {
     "name": "stdout",
     "output_type": "stream",
     "text": [
      "Statistics for Total Claim Amount:\n"
     ]
    },
    {
     "data": {
      "text/html": [
       "<style type=\"text/css\">\n",
       "#T_d5225 table {\n",
       "  border: 2px solid black;\n",
       "}\n",
       "</style>\n",
       "<table id=\"T_d5225\" style='display:inline'>\n",
       "  <thead>\n",
       "    <tr>\n",
       "      <th class=\"blank level0\" >&nbsp;</th>\n",
       "      <th id=\"T_d5225_level0_col0\" class=\"col_heading level0 col0\" >Total Claim Amount</th>\n",
       "    </tr>\n",
       "  </thead>\n",
       "  <tbody>\n",
       "    <tr>\n",
       "      <th id=\"T_d5225_level0_row0\" class=\"row_heading level0 row0\" >count</th>\n",
       "      <td id=\"T_d5225_row0_col0\" class=\"data row0 col0\" >724.000000</td>\n",
       "    </tr>\n",
       "    <tr>\n",
       "      <th id=\"T_d5225_level0_row1\" class=\"row_heading level0 row1\" >mean</th>\n",
       "      <td id=\"T_d5225_row1_col0\" class=\"data row1 col0\" >347.675170</td>\n",
       "    </tr>\n",
       "    <tr>\n",
       "      <th id=\"T_d5225_level0_row2\" class=\"row_heading level0 row2\" >std</th>\n",
       "      <td id=\"T_d5225_row2_col0\" class=\"data row2 col0\" >270.301754</td>\n",
       "    </tr>\n",
       "    <tr>\n",
       "      <th id=\"T_d5225_level0_row3\" class=\"row_heading level0 row3\" >min</th>\n",
       "      <td id=\"T_d5225_row3_col0\" class=\"data row3 col0\" >0.382107</td>\n",
       "    </tr>\n",
       "    <tr>\n",
       "      <th id=\"T_d5225_level0_row4\" class=\"row_heading level0 row4\" >25%</th>\n",
       "      <td id=\"T_d5225_row4_col0\" class=\"data row4 col0\" >141.891985</td>\n",
       "    </tr>\n",
       "    <tr>\n",
       "      <th id=\"T_d5225_level0_row5\" class=\"row_heading level0 row5\" >50%</th>\n",
       "      <td id=\"T_d5225_row5_col0\" class=\"data row5 col0\" >321.600000</td>\n",
       "    </tr>\n",
       "    <tr>\n",
       "      <th id=\"T_d5225_level0_row6\" class=\"row_heading level0 row6\" >75%</th>\n",
       "      <td id=\"T_d5225_row6_col0\" class=\"data row6 col0\" >480.256879</td>\n",
       "    </tr>\n",
       "    <tr>\n",
       "      <th id=\"T_d5225_level0_row7\" class=\"row_heading level0 row7\" >max</th>\n",
       "      <td id=\"T_d5225_row7_col0\" class=\"data row7 col0\" >2893.239678</td>\n",
       "    </tr>\n",
       "  </tbody>\n",
       "</table>\n"
      ],
      "text/plain": [
       "<pandas.io.formats.style.Styler at 0x1b0a73f4190>"
      ]
     },
     "metadata": {},
     "output_type": "display_data"
    },
    {
     "name": "stdout",
     "output_type": "stream",
     "text": [
      "\n",
      "Top 25% customers based on Total Claim Amount:\n"
     ]
    },
    {
     "data": {
      "text/html": [
       "<style type=\"text/css\">\n",
       "#T_353a8 table {\n",
       "  border: 2px solid black;\n",
       "}\n",
       "</style>\n",
       "<table id=\"T_353a8\" style='display:inline'>\n",
       "  <thead>\n",
       "    <tr>\n",
       "      <th class=\"blank level0\" >&nbsp;</th>\n",
       "      <th id=\"T_353a8_level0_col0\" class=\"col_heading level0 col0\" >Customer</th>\n",
       "      <th id=\"T_353a8_level0_col1\" class=\"col_heading level0 col1\" >States</th>\n",
       "      <th id=\"T_353a8_level0_col2\" class=\"col_heading level0 col2\" >GENDER</th>\n",
       "      <th id=\"T_353a8_level0_col3\" class=\"col_heading level0 col3\" >Education</th>\n",
       "      <th id=\"T_353a8_level0_col4\" class=\"col_heading level0 col4\" >Customer Lifetime Value</th>\n",
       "      <th id=\"T_353a8_level0_col5\" class=\"col_heading level0 col5\" >Income</th>\n",
       "      <th id=\"T_353a8_level0_col6\" class=\"col_heading level0 col6\" >Monthly Premium Auto</th>\n",
       "      <th id=\"T_353a8_level0_col7\" class=\"col_heading level0 col7\" >Number of Open Complaints</th>\n",
       "      <th id=\"T_353a8_level0_col8\" class=\"col_heading level0 col8\" >Policy Type</th>\n",
       "      <th id=\"T_353a8_level0_col9\" class=\"col_heading level0 col9\" >Vehicle Class</th>\n",
       "      <th id=\"T_353a8_level0_col10\" class=\"col_heading level0 col10\" >Total Claim Amount</th>\n",
       "      <th id=\"T_353a8_level0_col11\" class=\"col_heading level0 col11\" >Customer_Location</th>\n",
       "    </tr>\n",
       "  </thead>\n",
       "  <tbody>\n",
       "    <tr>\n",
       "      <th id=\"T_353a8_level0_row0\" class=\"row_heading level0 row0\" >2</th>\n",
       "      <td id=\"T_353a8_row0_col0\" class=\"data row0 col0\" >AI49188</td>\n",
       "      <td id=\"T_353a8_row0_col1\" class=\"data row0 col1\" >Nevada</td>\n",
       "      <td id=\"T_353a8_row0_col2\" class=\"data row0 col2\" >F</td>\n",
       "      <td id=\"T_353a8_row0_col3\" class=\"data row0 col3\" >Bachelor</td>\n",
       "      <td id=\"T_353a8_row0_col4\" class=\"data row0 col4\" >1288743.17%</td>\n",
       "      <td id=\"T_353a8_row0_col5\" class=\"data row0 col5\" >48767.000000</td>\n",
       "      <td id=\"T_353a8_row0_col6\" class=\"data row0 col6\" >108.000000</td>\n",
       "      <td id=\"T_353a8_row0_col7\" class=\"data row0 col7\" >1/0/00</td>\n",
       "      <td id=\"T_353a8_row0_col8\" class=\"data row0 col8\" >Personal Auto</td>\n",
       "      <td id=\"T_353a8_row0_col9\" class=\"data row0 col9\" >Two-Door Car</td>\n",
       "      <td id=\"T_353a8_row0_col10\" class=\"data row0 col10\" >566.472247</td>\n",
       "      <td id=\"T_353a8_row0_col11\" class=\"data row0 col11\" >Nevada</td>\n",
       "    </tr>\n",
       "    <tr>\n",
       "      <th id=\"T_353a8_level0_row1\" class=\"row_heading level0 row1\" >8</th>\n",
       "      <td id=\"T_353a8_row1_col0\" class=\"data row1 col0\" >DY87989</td>\n",
       "      <td id=\"T_353a8_row1_col1\" class=\"data row1 col1\" >Oregon</td>\n",
       "      <td id=\"T_353a8_row1_col2\" class=\"data row1 col2\" >M</td>\n",
       "      <td id=\"T_353a8_row1_col3\" class=\"data row1 col3\" >Bachelor</td>\n",
       "      <td id=\"T_353a8_row1_col4\" class=\"data row1 col4\" >2412750.40%</td>\n",
       "      <td id=\"T_353a8_row1_col5\" class=\"data row1 col5\" >14072.000000</td>\n",
       "      <td id=\"T_353a8_row1_col6\" class=\"data row1 col6\" >71.000000</td>\n",
       "      <td id=\"T_353a8_row1_col7\" class=\"data row1 col7\" >1/0/00</td>\n",
       "      <td id=\"T_353a8_row1_col8\" class=\"data row1 col8\" >Corporate Auto</td>\n",
       "      <td id=\"T_353a8_row1_col9\" class=\"data row1 col9\" >Four-Door Car</td>\n",
       "      <td id=\"T_353a8_row1_col10\" class=\"data row1 col10\" >511.200000</td>\n",
       "      <td id=\"T_353a8_row1_col11\" class=\"data row1 col11\" >Oregon</td>\n",
       "    </tr>\n",
       "    <tr>\n",
       "      <th id=\"T_353a8_level0_row2\" class=\"row_heading level0 row2\" >152</th>\n",
       "      <td id=\"T_353a8_row2_col0\" class=\"data row2 col0\" >PD27940</td>\n",
       "      <td id=\"T_353a8_row2_col1\" class=\"data row2 col1\" >Arizona</td>\n",
       "      <td id=\"T_353a8_row2_col2\" class=\"data row2 col2\" >M</td>\n",
       "      <td id=\"T_353a8_row2_col3\" class=\"data row2 col3\" >High School or Below</td>\n",
       "      <td id=\"T_353a8_row2_col4\" class=\"data row2 col4\" >488516.25%</td>\n",
       "      <td id=\"T_353a8_row2_col5\" class=\"data row2 col5\" >26372.000000</td>\n",
       "      <td id=\"T_353a8_row2_col6\" class=\"data row2 col6\" >126.000000</td>\n",
       "      <td id=\"T_353a8_row2_col7\" class=\"data row2 col7\" >1/0/00</td>\n",
       "      <td id=\"T_353a8_row2_col8\" class=\"data row2 col8\" >Personal Auto</td>\n",
       "      <td id=\"T_353a8_row2_col9\" class=\"data row2 col9\" >SUV</td>\n",
       "      <td id=\"T_353a8_row2_col10\" class=\"data row2 col10\" >604.800000</td>\n",
       "      <td id=\"T_353a8_row2_col11\" class=\"data row2 col11\" >Arizona</td>\n",
       "    </tr>\n",
       "    <tr>\n",
       "      <th id=\"T_353a8_level0_row3\" class=\"row_heading level0 row3\" >158</th>\n",
       "      <td id=\"T_353a8_row3_col0\" class=\"data row3 col0\" >KA61892</td>\n",
       "      <td id=\"T_353a8_row3_col1\" class=\"data row3 col1\" >Arizona</td>\n",
       "      <td id=\"T_353a8_row3_col2\" class=\"data row3 col2\" >M</td>\n",
       "      <td id=\"T_353a8_row3_col3\" class=\"data row3 col3\" >College</td>\n",
       "      <td id=\"T_353a8_row3_col4\" class=\"data row3 col4\" >387364.70%</td>\n",
       "      <td id=\"T_353a8_row3_col5\" class=\"data row3 col5\" >28142.000000</td>\n",
       "      <td id=\"T_353a8_row3_col6\" class=\"data row3 col6\" >105.000000</td>\n",
       "      <td id=\"T_353a8_row3_col7\" class=\"data row3 col7\" >1/0/00</td>\n",
       "      <td id=\"T_353a8_row3_col8\" class=\"data row3 col8\" >Personal Auto</td>\n",
       "      <td id=\"T_353a8_row3_col9\" class=\"data row3 col9\" >Sports Car</td>\n",
       "      <td id=\"T_353a8_row3_col10\" class=\"data row3 col10\" >701.708239</td>\n",
       "      <td id=\"T_353a8_row3_col11\" class=\"data row3 col11\" >Arizona</td>\n",
       "    </tr>\n",
       "    <tr>\n",
       "      <th id=\"T_353a8_level0_row4\" class=\"row_heading level0 row4\" >170</th>\n",
       "      <td id=\"T_353a8_row4_col0\" class=\"data row4 col0\" >TS19868</td>\n",
       "      <td id=\"T_353a8_row4_col1\" class=\"data row4 col1\" >California</td>\n",
       "      <td id=\"T_353a8_row4_col2\" class=\"data row4 col2\" >M</td>\n",
       "      <td id=\"T_353a8_row4_col3\" class=\"data row4 col3\" >College</td>\n",
       "      <td id=\"T_353a8_row4_col4\" class=\"data row4 col4\" >241313.97%</td>\n",
       "      <td id=\"T_353a8_row4_col5\" class=\"data row4 col5\" >27501.000000</td>\n",
       "      <td id=\"T_353a8_row4_col6\" class=\"data row4 col6\" >63.000000</td>\n",
       "      <td id=\"T_353a8_row4_col7\" class=\"data row4 col7\" >1/0/00</td>\n",
       "      <td id=\"T_353a8_row4_col8\" class=\"data row4 col8\" >Personal Auto</td>\n",
       "      <td id=\"T_353a8_row4_col9\" class=\"data row4 col9\" >Four-Door Car</td>\n",
       "      <td id=\"T_353a8_row4_col10\" class=\"data row4 col10\" >542.319401</td>\n",
       "      <td id=\"T_353a8_row4_col11\" class=\"data row4 col11\" >California</td>\n",
       "    </tr>\n",
       "    <tr>\n",
       "      <th id=\"T_353a8_level0_row5\" class=\"row_heading level0 row5\" >174</th>\n",
       "      <td id=\"T_353a8_row5_col0\" class=\"data row5 col0\" >DX91392</td>\n",
       "      <td id=\"T_353a8_row5_col1\" class=\"data row5 col1\" >California</td>\n",
       "      <td id=\"T_353a8_row5_col2\" class=\"data row5 col2\" >M</td>\n",
       "      <td id=\"T_353a8_row5_col3\" class=\"data row5 col3\" >High School or Below</td>\n",
       "      <td id=\"T_353a8_row5_col4\" class=\"data row5 col4\" >578018.22%</td>\n",
       "      <td id=\"T_353a8_row5_col5\" class=\"data row5 col5\" >51066.000000</td>\n",
       "      <td id=\"T_353a8_row5_col6\" class=\"data row5 col6\" >74.000000</td>\n",
       "      <td id=\"T_353a8_row5_col7\" class=\"data row5 col7\" >1/0/00</td>\n",
       "      <td id=\"T_353a8_row5_col8\" class=\"data row5 col8\" >Personal Auto</td>\n",
       "      <td id=\"T_353a8_row5_col9\" class=\"data row5 col9\" >Four-Door Car</td>\n",
       "      <td id=\"T_353a8_row5_col10\" class=\"data row5 col10\" >787.993313</td>\n",
       "      <td id=\"T_353a8_row5_col11\" class=\"data row5 col11\" >California</td>\n",
       "    </tr>\n",
       "    <tr>\n",
       "      <th id=\"T_353a8_level0_row6\" class=\"row_heading level0 row6\" >179</th>\n",
       "      <td id=\"T_353a8_row6_col0\" class=\"data row6 col0\" >HH90090</td>\n",
       "      <td id=\"T_353a8_row6_col1\" class=\"data row6 col1\" >California</td>\n",
       "      <td id=\"T_353a8_row6_col2\" class=\"data row6 col2\" >F</td>\n",
       "      <td id=\"T_353a8_row6_col3\" class=\"data row6 col3\" >Bachelor</td>\n",
       "      <td id=\"T_353a8_row6_col4\" class=\"data row6 col4\" >407663.47%</td>\n",
       "      <td id=\"T_353a8_row6_col5\" class=\"data row6 col5\" >29549.000000</td>\n",
       "      <td id=\"T_353a8_row6_col6\" class=\"data row6 col6\" >104.000000</td>\n",
       "      <td id=\"T_353a8_row6_col7\" class=\"data row6 col7\" >1/0/00</td>\n",
       "      <td id=\"T_353a8_row6_col8\" class=\"data row6 col8\" >Personal Auto</td>\n",
       "      <td id=\"T_353a8_row6_col9\" class=\"data row6 col9\" >Sports Car</td>\n",
       "      <td id=\"T_353a8_row6_col10\" class=\"data row6 col10\" >710.433775</td>\n",
       "      <td id=\"T_353a8_row6_col11\" class=\"data row6 col11\" >California</td>\n",
       "    </tr>\n",
       "    <tr>\n",
       "      <th id=\"T_353a8_level0_row7\" class=\"row_heading level0 row7\" >181</th>\n",
       "      <td id=\"T_353a8_row7_col0\" class=\"data row7 col0\" >KC11055</td>\n",
       "      <td id=\"T_353a8_row7_col1\" class=\"data row7 col1\" >Nevada</td>\n",
       "      <td id=\"T_353a8_row7_col2\" class=\"data row7 col2\" >F</td>\n",
       "      <td id=\"T_353a8_row7_col3\" class=\"data row7 col3\" >Bachelor</td>\n",
       "      <td id=\"T_353a8_row7_col4\" class=\"data row7 col4\" >1693627.15%</td>\n",
       "      <td id=\"T_353a8_row7_col5\" class=\"data row7 col5\" >39411.000000</td>\n",
       "      <td id=\"T_353a8_row7_col6\" class=\"data row7 col6\" >217.000000</td>\n",
       "      <td id=\"T_353a8_row7_col7\" class=\"data row7 col7\" >1/2/00</td>\n",
       "      <td id=\"T_353a8_row7_col8\" class=\"data row7 col8\" >Personal Auto</td>\n",
       "      <td id=\"T_353a8_row7_col9\" class=\"data row7 col9\" >Luxury Car</td>\n",
       "      <td id=\"T_353a8_row7_col10\" class=\"data row7 col10\" >1122.658899</td>\n",
       "      <td id=\"T_353a8_row7_col11\" class=\"data row7 col11\" >Nevada</td>\n",
       "    </tr>\n",
       "    <tr>\n",
       "      <th id=\"T_353a8_level0_row8\" class=\"row_heading level0 row8\" >185</th>\n",
       "      <td id=\"T_353a8_row8_col0\" class=\"data row8 col0\" >OZ97704</td>\n",
       "      <td id=\"T_353a8_row8_col1\" class=\"data row8 col1\" >California</td>\n",
       "      <td id=\"T_353a8_row8_col2\" class=\"data row8 col2\" >F</td>\n",
       "      <td id=\"T_353a8_row8_col3\" class=\"data row8 col3\" >High School or Below</td>\n",
       "      <td id=\"T_353a8_row8_col4\" class=\"data row8 col4\" >1311752.22%</td>\n",
       "      <td id=\"T_353a8_row8_col5\" class=\"data row8 col5\" >84311.000000</td>\n",
       "      <td id=\"T_353a8_row8_col6\" class=\"data row8 col6\" >111.000000</td>\n",
       "      <td id=\"T_353a8_row8_col7\" class=\"data row8 col7\" >1/4/00</td>\n",
       "      <td id=\"T_353a8_row8_col8\" class=\"data row8 col8\" >Personal Auto</td>\n",
       "      <td id=\"T_353a8_row8_col9\" class=\"data row8 col9\" >SUV</td>\n",
       "      <td id=\"T_353a8_row8_col10\" class=\"data row8 col10\" >532.800000</td>\n",
       "      <td id=\"T_353a8_row8_col11\" class=\"data row8 col11\" >California</td>\n",
       "    </tr>\n",
       "    <tr>\n",
       "      <th id=\"T_353a8_level0_row9\" class=\"row_heading level0 row9\" >186</th>\n",
       "      <td id=\"T_353a8_row9_col0\" class=\"data row9 col0\" >UF46533</td>\n",
       "      <td id=\"T_353a8_row9_col1\" class=\"data row9 col1\" >California</td>\n",
       "      <td id=\"T_353a8_row9_col2\" class=\"data row9 col2\" >F</td>\n",
       "      <td id=\"T_353a8_row9_col3\" class=\"data row9 col3\" >College</td>\n",
       "      <td id=\"T_353a8_row9_col4\" class=\"data row9 col4\" >457452.41%</td>\n",
       "      <td id=\"T_353a8_row9_col5\" class=\"data row9 col5\" >99316.000000</td>\n",
       "      <td id=\"T_353a8_row9_col6\" class=\"data row9 col6\" >114.000000</td>\n",
       "      <td id=\"T_353a8_row9_col7\" class=\"data row9 col7\" >1/0/00</td>\n",
       "      <td id=\"T_353a8_row9_col8\" class=\"data row9 col8\" >Corporate Auto</td>\n",
       "      <td id=\"T_353a8_row9_col9\" class=\"data row9 col9\" >SUV</td>\n",
       "      <td id=\"T_353a8_row9_col10\" class=\"data row9 col10\" >754.358929</td>\n",
       "      <td id=\"T_353a8_row9_col11\" class=\"data row9 col11\" >California</td>\n",
       "    </tr>\n",
       "  </tbody>\n",
       "</table>\n"
      ],
      "text/plain": [
       "<pandas.io.formats.style.Styler at 0x1b0a73f4190>"
      ]
     },
     "metadata": {},
     "output_type": "display_data"
    },
    {
     "name": "stdout",
     "output_type": "stream",
     "text": [
      "\n",
      "Summary statistics for high policy claim amount data:\n"
     ]
    },
    {
     "data": {
      "text/html": [
       "<style type=\"text/css\">\n",
       "#T_a9f15 table {\n",
       "  border: 2px solid black;\n",
       "}\n",
       "</style>\n",
       "<table id=\"T_a9f15\" style='display:inline'>\n",
       "  <thead>\n",
       "    <tr>\n",
       "      <th class=\"blank level0\" >&nbsp;</th>\n",
       "      <th id=\"T_a9f15_level0_col0\" class=\"col_heading level0 col0\" >Income</th>\n",
       "      <th id=\"T_a9f15_level0_col1\" class=\"col_heading level0 col1\" >Monthly Premium Auto</th>\n",
       "      <th id=\"T_a9f15_level0_col2\" class=\"col_heading level0 col2\" >Total Claim Amount</th>\n",
       "    </tr>\n",
       "  </thead>\n",
       "  <tbody>\n",
       "    <tr>\n",
       "      <th id=\"T_a9f15_level0_row0\" class=\"row_heading level0 row0\" >count</th>\n",
       "      <td id=\"T_a9f15_row0_col0\" class=\"data row0 col0\" >181.000000</td>\n",
       "      <td id=\"T_a9f15_row0_col1\" class=\"data row0 col1\" >181.000000</td>\n",
       "      <td id=\"T_a9f15_row0_col2\" class=\"data row0 col2\" >181.000000</td>\n",
       "    </tr>\n",
       "    <tr>\n",
       "      <th id=\"T_a9f15_level0_row1\" class=\"row_heading level0 row1\" >mean</th>\n",
       "      <td id=\"T_a9f15_row1_col0\" class=\"data row1 col0\" >43845.790055</td>\n",
       "      <td id=\"T_a9f15_row1_col1\" class=\"data row1 col1\" >129.701657</td>\n",
       "      <td id=\"T_a9f15_row1_col2\" class=\"data row1 col2\" >687.909080</td>\n",
       "    </tr>\n",
       "    <tr>\n",
       "      <th id=\"T_a9f15_level0_row2\" class=\"row_heading level0 row2\" >std</th>\n",
       "      <td id=\"T_a9f15_row2_col0\" class=\"data row2 col0\" >22709.217040</td>\n",
       "      <td id=\"T_a9f15_row2_col1\" class=\"data row2 col1\" >79.491715</td>\n",
       "      <td id=\"T_a9f15_row2_col2\" class=\"data row2 col2\" >284.490353</td>\n",
       "    </tr>\n",
       "    <tr>\n",
       "      <th id=\"T_a9f15_level0_row3\" class=\"row_heading level0 row3\" >min</th>\n",
       "      <td id=\"T_a9f15_row3_col0\" class=\"data row3 col0\" >10312.000000</td>\n",
       "      <td id=\"T_a9f15_row3_col1\" class=\"data row3 col1\" >63.000000</td>\n",
       "      <td id=\"T_a9f15_row3_col2\" class=\"data row3 col2\" >481.027516</td>\n",
       "    </tr>\n",
       "    <tr>\n",
       "      <th id=\"T_a9f15_level0_row4\" class=\"row_heading level0 row4\" >25%</th>\n",
       "      <td id=\"T_a9f15_row4_col0\" class=\"data row4 col0\" >24506.000000</td>\n",
       "      <td id=\"T_a9f15_row4_col1\" class=\"data row4 col1\" >103.000000</td>\n",
       "      <td id=\"T_a9f15_row4_col2\" class=\"data row4 col2\" >528.000000</td>\n",
       "    </tr>\n",
       "    <tr>\n",
       "      <th id=\"T_a9f15_level0_row5\" class=\"row_heading level0 row5\" >50%</th>\n",
       "      <td id=\"T_a9f15_row5_col0\" class=\"data row5 col0\" >38736.000000</td>\n",
       "      <td id=\"T_a9f15_row5_col1\" class=\"data row5 col1\" >112.000000</td>\n",
       "      <td id=\"T_a9f15_row5_col2\" class=\"data row5 col2\" >600.000000</td>\n",
       "    </tr>\n",
       "    <tr>\n",
       "      <th id=\"T_a9f15_level0_row6\" class=\"row_heading level0 row6\" >75%</th>\n",
       "      <td id=\"T_a9f15_row6_col0\" class=\"data row6 col0\" >58842.000000</td>\n",
       "      <td id=\"T_a9f15_row6_col1\" class=\"data row6 col1\" >131.000000</td>\n",
       "      <td id=\"T_a9f15_row6_col2\" class=\"data row6 col2\" >710.433775</td>\n",
       "    </tr>\n",
       "    <tr>\n",
       "      <th id=\"T_a9f15_level0_row7\" class=\"row_heading level0 row7\" >max</th>\n",
       "      <td id=\"T_a9f15_row7_col0\" class=\"data row7 col0\" >99316.000000</td>\n",
       "      <td id=\"T_a9f15_row7_col1\" class=\"data row7 col1\" >1005.000000</td>\n",
       "      <td id=\"T_a9f15_row7_col2\" class=\"data row7 col2\" >2893.239678</td>\n",
       "    </tr>\n",
       "  </tbody>\n",
       "</table>\n"
      ],
      "text/plain": [
       "<pandas.io.formats.style.Styler at 0x1b0a73f4a50>"
      ]
     },
     "metadata": {},
     "output_type": "display_data"
    }
   ],
   "source": [
    "from IPython.display import display\n",
    "\n",
    "\n",
    "# Review statistics for Total Claim Amount\n",
    "total_claim_stats = Pandas_Int['Total Claim Amount'].describe()\n",
    "print(\"Statistics for Total Claim Amount:\")\n",
    "display(total_claim_stats.to_frame().style.set_table_attributes(\"style='display:inline'\").set_table_styles(\n",
    "    [{'selector': 'table', 'props': [('border', '2px solid black')]}]))\n",
    "\n",
    "# Identify customers with high policy claim amount (greater than the 75th percentile)\n",
    "q3 = Pandas_Int['Total Claim Amount'].quantile(0.75)\n",
    "high_claim_customers = Pandas_Int.loc[Pandas_Int['Total Claim Amount'] > q3]\n",
    "print(\"\\nTop 25% customers based on Total Claim Amount:\")\n",
    "display(high_claim_customers.head(10).style.set_table_attributes(\"style='display:inline'\").set_table_styles(\n",
    "    [{'selector': 'table', 'props': [('border', '2px solid black')]}]))\n",
    "\n",
    "# Calculate summary statistics for high policy claim amount data\n",
    "high_claim_summary = high_claim_customers.describe()\n",
    "print(\"\\nSummary statistics for high policy claim amount data:\")\n",
    "display(high_claim_summary.style.set_table_attributes(\"style='display:inline'\").set_table_styles(\n",
    "    [{'selector': 'table', 'props': [('border', '2px solid black')]}]))"
   ]
  }
 ],
 "metadata": {
  "kernelspec": {
   "display_name": "Python 3",
   "language": "python",
   "name": "python3"
  },
  "language_info": {
   "codemirror_mode": {
    "name": "ipython",
    "version": 3
   },
   "file_extension": ".py",
   "mimetype": "text/x-python",
   "name": "python",
   "nbconvert_exporter": "python",
   "pygments_lexer": "ipython3",
   "version": "3.13.0"
  }
 },
 "nbformat": 4,
 "nbformat_minor": 5
}
